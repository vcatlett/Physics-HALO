{
 "cells": [
  {
   "cell_type": "markdown",
   "metadata": {},
   "source": [
    "# Example: Matplotlib and NumPy\n",
    "Created by Victoria Catlett for Physics HALO"
   ]
  },
  {
   "cell_type": "markdown",
   "metadata": {},
   "source": [
    "### Import what you need from packages at the top"
   ]
  },
  {
   "cell_type": "code",
   "execution_count": null,
   "metadata": {},
   "outputs": [],
   "source": [
    "import numpy as np\n",
    "import matplotlib.pyplot as plt\n",
    "%matplotlib inline"
   ]
  },
  {
   "cell_type": "markdown",
   "metadata": {},
   "source": [
    "### Calculate y = 3x^2 +2x + 1 on 50 points between -10 and 10"
   ]
  },
  {
   "cell_type": "code",
   "execution_count": null,
   "metadata": {},
   "outputs": [],
   "source": [
    "my_x = np.linspace(-10, 10, 50)\n",
    "\n",
    "def quadratic(x):\n",
    "    y = 3*(x**2) + 2*x + 1\n",
    "    return y\n",
    "\n",
    "my_y = quadratic(my_x)\n",
    "print(my_y)\n",
    "# Extra info: This next line does the same thing as lines 17-23 \n",
    "#my_y = [3*x**2 for x in my_x]"
   ]
  },
  {
   "cell_type": "markdown",
   "metadata": {},
   "source": [
    "### Use Matplotlib to plot the x and y values with green triangles"
   ]
  },
  {
   "cell_type": "code",
   "execution_count": null,
   "metadata": {},
   "outputs": [],
   "source": [
    "fig = plt.figure()\n",
    "plt.scatter(my_x, my_y, color='green', marker='v', label='My Data')\n",
    "plt.xlabel('x')\n",
    "plt.ylabel(r'$y = x^{2}$')  # This uses LaTeX in the y label\n",
    "plt.title('This is a plot!')\n",
    "plt.legend()\n",
    "plt.show()\n",
    "\n",
    "# What happens when you use this instead of plt.plot?\n",
    "#plt.scatter(my_x, my_y, color='green', marker='v', label='My Data')"
   ]
  },
  {
   "cell_type": "markdown",
   "metadata": {},
   "source": [
    "### Save the figure as a PNG to the \"files\" folder"
   ]
  },
  {
   "cell_type": "code",
   "execution_count": null,
   "metadata": {},
   "outputs": [],
   "source": [
    "plt.savefig(fig, '../files/Sample_Plot.png')"
   ]
  }
 ],
 "metadata": {
  "kernelspec": {
   "display_name": "Python 3",
   "language": "python",
   "name": "python3"
  },
  "language_info": {
   "codemirror_mode": {
    "name": "ipython",
    "version": 3
   },
   "file_extension": ".py",
   "mimetype": "text/x-python",
   "name": "python",
   "nbconvert_exporter": "python",
   "pygments_lexer": "ipython3",
   "version": "3.8.5"
  }
 },
 "nbformat": 4,
 "nbformat_minor": 4
}
