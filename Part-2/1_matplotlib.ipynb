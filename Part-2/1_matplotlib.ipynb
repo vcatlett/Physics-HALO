{
 "cells": [
  {
   "cell_type": "markdown",
   "metadata": {},
   "source": [
    "# Example: Matplotlib and NumPy\n",
    "Created by Victoria Catlett for the Intermediate Python 3 Workshop"
   ]
  },
  {
   "cell_type": "markdown",
   "metadata": {},
   "source": [
    "### Import what you need from packages at the top"
   ]
  },
  {
   "cell_type": "code",
   "execution_count": 1,
   "metadata": {},
   "outputs": [],
   "source": [
    "import numpy as np\n",
    "import matplotlib.pyplot as plt\n",
    "%matplotlib inline"
   ]
  },
  {
   "cell_type": "markdown",
   "metadata": {},
   "source": [
    "### Calculate y = 3x^2 +2x + 1 on 50 points between -10 and 10"
   ]
  },
  {
   "cell_type": "code",
   "execution_count": 3,
   "metadata": {},
   "outputs": [
    {
     "name": "stdout",
     "output_type": "stream",
     "text": [
      "[281.         257.82632237 235.65222824 214.47771762 194.3027905\n",
      " 175.1274469  156.9516868  139.7755102  123.59891712 108.42190754\n",
      "  94.24448147  81.0666389   68.88837984  57.70970429  47.53061224\n",
      "  38.35110371  30.17117868  22.99083715  16.81007913  11.62890462\n",
      "   7.44731362   4.26530612   2.08288213   0.90004165   0.71678467\n",
      "   1.5331112    3.34902124   6.16451479   9.97959184  14.79425239\n",
      "  20.60849646  27.42232403  35.23573511  44.0487297   53.86130779\n",
      "  64.67346939  76.48521449  89.29654311 103.10745523 117.91795085\n",
      " 133.72802999 150.53769263 168.34693878 187.15576843 206.96418159\n",
      " 227.77217826 249.57975843 272.38692212 296.1936693  321.        ]\n"
     ]
    }
   ],
   "source": [
    "my_x = np.linspace(-10, 10, 50)\n",
    "\n",
    "def quadratic(x):\n",
    "    y = 3*(x**2) + 2*x + 1\n",
    "    return y\n",
    "\n",
    "my_y = quadratic(my_x)\n",
    "print(my_y)\n",
    "# Extra info: This next line does the same thing as lines 17-23 \n",
    "#my_y = [3*x**2 for x in my_x]"
   ]
  },
  {
   "cell_type": "markdown",
   "metadata": {},
   "source": [
    "### Use Matplotlib to plot the x and y values with green triangles"
   ]
  },
  {
   "cell_type": "code",
   "execution_count": 5,
   "metadata": {},
   "outputs": [
    {
     "data": {
      "image/png": "[encoded data removed]",
      "text/plain": [
       "<Figure size 432x288 with 1 Axes>"
      ]
     },
     "metadata": {
      "needs_background": "light"
     },
     "output_type": "display_data"
    }
   ],
   "source": [
    "fig = plt.figure()\n",
    "plt.scatter(my_x, my_y, color='green', marker='v', label='My Data')\n",
    "plt.xlabel('x')\n",
    "plt.ylabel(r'$y = x^{2}$')  # This uses LaTeX in the y label\n",
    "plt.title('This is a plot!')\n",
    "plt.legend()\n",
    "plt.show()\n",
    "\n",
    "# What happens when you use this instead of plt.plot?\n",
    "#plt.scatter(my_x, my_y, color='green', marker='v', label='My Data')"
   ]
  },
  {
   "cell_type": "markdown",
   "metadata": {},
   "source": [
    "### Save the figure as a PNG to the \"files\" folder"
   ]
  },
  {
   "cell_type": "code",
   "execution_count": 7,
   "metadata": {},
   "outputs": [
    {
     "data": {
      "text/plain": [
       "<Figure size 432x288 with 0 Axes>"
      ]
     },
     "metadata": {},
     "output_type": "display_data"
    }
   ],
   "source": [
    "plt.savefig(fig, '../files/Sample_Plot.png')"
   ]
  }
 ],
 "metadata": {
  "kernelspec": {
   "display_name": "Python 3",
   "language": "python",
   "name": "python3"
  },
  "language_info": {
   "codemirror_mode": {
    "name": "ipython",
    "version": 3
   },
   "file_extension": ".py",
   "mimetype": "text/x-python",
   "name": "python",
   "nbconvert_exporter": "python",
   "pygments_lexer": "ipython3",
   "version": "3.7.6"
  }
 },
 "nbformat": 4,
 "nbformat_minor": 4
}
